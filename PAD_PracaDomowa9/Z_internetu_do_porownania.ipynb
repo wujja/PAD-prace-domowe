{
 "cells": [
  {
   "cell_type": "code",
   "execution_count": 17,
   "metadata": {},
   "outputs": [],
   "source": [
    "import pandas as pd\n",
    "from math import sqrt\n",
    "import numpy as np\n",
    "df = pd.read_csv('PAD_09_PD.csv', sep=';')\n",
    "#df.rename(columns={\"Annual Income (k$)\":\"Income\"},inplace=True)\n",
    "df_male = df[df['Gender']=='Male']\n",
    "sample_1 = df_male['Annual Income (k$)'].to_list()\n",
    "sample_1\n",
    "df_female = df[df['Gender']=='Female']\n",
    "sample_2 = df_female['Annual Income (k$)'].to_list()\n"
   ]
  },
  {
   "cell_type": "code",
   "execution_count": 18,
   "metadata": {},
   "outputs": [
    {
     "name": "stdout",
     "output_type": "stream",
     "text": [
      "sample_1 mean: 62.2273\n",
      "sample_2 mean: 59.25\n",
      "variance of sample_1: 709.6029\n",
      "variance of sample_2: 676.6216\n",
      "pooled sample variance: 691.113406795225\n",
      "standard error: 3.744892102406869\n"
     ]
    }
   ],
   "source": [
    "sample1_bar, sample2_bar = np.mean(sample_1), np.mean(sample_2)\n",
    "n1, n2 = len(sample_1), len(sample_2)\n",
    "var_sample1, var_sample2= np.var(sample_1, ddof=1), np.var(sample_2, ddof=1)\n",
    "# pooled sample variance\n",
    "var = ( ((n1-1)*var_sample1) + ((n2-1)*var_sample2) ) / (n1+n2-2)\n",
    "# standard error\n",
    "std_error = np.sqrt(var * (1.0 / n1 + 1.0 / n2))\n",
    " \n",
    "print(\"sample_1 mean:\",np.round(sample1_bar,4))\n",
    "print(\"sample_2 mean:\",np.round(sample2_bar,4))\n",
    "print(\"variance of sample_1:\",np.round(var_sample1,4))\n",
    "print(\"variance of sample_2:\",np.round(var_sample2,4))\n",
    "print(\"pooled sample variance:\",var)\n",
    "print(\"standard error:\",std_error)"
   ]
  },
  {
   "cell_type": "code",
   "execution_count": 21,
   "metadata": {},
   "outputs": [
    {
     "name": "stdout",
     "output_type": "stream",
     "text": [
      "t static: 0.795022298602198\n",
      "Critical value for t two tailed: 2.1788128296634177\n",
      "Critical value for t one tailed: 1.782287555649159\n",
      "p-value for two tailed: 0.4420418512981916\n",
      "p-value for one tailed: 0.2210209256490958\n"
     ]
    }
   ],
   "source": [
    "import scipy.stats as stats\n",
    "# calculate t statistics\n",
    "t = abs(sample1_bar - sample2_bar) / std_error\n",
    "print('t static:',t)\n",
    "# two-tailed critical value at alpha = 0.05\n",
    "t_c = stats.t.ppf(q=0.975, df=12)\n",
    "print(\"Critical value for t two tailed:\",t_c)\n",
    " \n",
    " \n",
    "# one-tailed critical value at alpha = 0.05\n",
    "t_c = stats.t.ppf(q=0.95, df=12)\n",
    "print(\"Critical value for t one tailed:\",t_c)\n",
    " \n",
    " \n",
    "# get two-tailed p value\n",
    "p_two = 2*(1-stats.t.cdf(x=t, df=12))\n",
    "print(\"p-value for two tailed:\",p_two)\n",
    " \n",
    "# get one-tailed p value\n",
    "p_one = 1-stats.t.cdf(x=t, df=12)\n",
    "print(\"p-value for one tailed:\",p_one)"
   ]
  }
 ],
 "metadata": {
  "interpreter": {
   "hash": "e6a6e11e4da8db2e5c33e964a64b7ad327a3cd8023fd813c59f97dd957741255"
  },
  "kernelspec": {
   "display_name": "Python 3.10.2 64-bit",
   "language": "python",
   "name": "python3"
  },
  "language_info": {
   "codemirror_mode": {
    "name": "ipython",
    "version": 3
   },
   "file_extension": ".py",
   "mimetype": "text/x-python",
   "name": "python",
   "nbconvert_exporter": "python",
   "pygments_lexer": "ipython3",
   "version": "3.10.2"
  },
  "orig_nbformat": 4
 },
 "nbformat": 4,
 "nbformat_minor": 2
}
