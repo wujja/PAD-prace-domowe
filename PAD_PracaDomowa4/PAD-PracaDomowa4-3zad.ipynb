{
 "cells": [
  {
   "cell_type": "code",
   "execution_count": 7,
   "metadata": {},
   "outputs": [
    {
     "data": {
      "text/plain": [
       "array([[ 1.,  5.,  2.],\n",
       "       [ 6.,  6.,  4.],\n",
       "       [ 1., 10.,  7.],\n",
       "       [ 5.,  8.,  2.],\n",
       "       [ 3.,  0.,  6.]])"
      ]
     },
     "execution_count": 7,
     "metadata": {},
     "output_type": "execute_result"
    }
   ],
   "source": [
    "import pandas as pd\n",
    "import numpy as np\n",
    "\n",
    "matrix_A =  np.genfromtxt(\"Zadanie_3_macierz_A.csv\", delimiter=',')\n",
    "matrix_B =  np.genfromtxt(\"Zadanie_3_macierz_B.csv\", delimiter=',')\n",
    "matrix_A\n",
    "matrix_B"
   ]
  },
  {
   "cell_type": "code",
   "execution_count": 11,
   "metadata": {},
   "outputs": [
    {
     "data": {
      "text/plain": [
       "array([12.33314076,  0.24898767, -3.58212843])"
      ]
     },
     "execution_count": 11,
     "metadata": {},
     "output_type": "execute_result"
    }
   ],
   "source": [
    "w_A,v_A = np.linalg.eig(matrix_A)\n",
    "w_A"
   ]
  }
 ],
 "metadata": {
  "interpreter": {
   "hash": "f03b26c0b1de1e5ec988569af0bd3f9ca774c4bbf3c6c2526649658410ee610e"
  },
  "kernelspec": {
   "display_name": "Python 3.10.2 64-bit",
   "language": "python",
   "name": "python3"
  },
  "language_info": {
   "codemirror_mode": {
    "name": "ipython",
    "version": 3
   },
   "file_extension": ".py",
   "mimetype": "text/x-python",
   "name": "python",
   "nbconvert_exporter": "python",
   "pygments_lexer": "ipython3",
   "version": "3.10.2"
  },
  "orig_nbformat": 4
 },
 "nbformat": 4,
 "nbformat_minor": 2
}
