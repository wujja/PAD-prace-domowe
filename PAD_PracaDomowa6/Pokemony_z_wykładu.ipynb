{
 "cells": [
  {
   "cell_type": "code",
   "execution_count": 1,
   "metadata": {},
   "outputs": [
    {
     "name": "stdout",
     "output_type": "stream",
     "text": [
      "12\n"
     ]
    },
    {
     "name": "stderr",
     "output_type": "stream",
     "text": [
      "C:\\Users\\manar\\AppData\\Local\\Temp\\ipykernel_13448\\2810543552.py:34: DeprecationWarning: find_element_by_tag_name is deprecated. Please use find_element(by=By.TAG_NAME, value=name) instead\n",
      "  pokemon_name = pokemon.find_element_by_tag_name('h5').text\n",
      "C:\\Users\\manar\\AppData\\Local\\Temp\\ipykernel_13448\\2810543552.py:36: DeprecationWarning: find_element_by_tag_name is deprecated. Please use find_element(by=By.TAG_NAME, value=name) instead\n",
      "  pokemon_link = pokemon.find_element_by_tag_name('a').get_attribute('href')\n"
     ]
    },
    {
     "name": "stdout",
     "output_type": "stream",
     "text": [
      "[{'Bulbasaur': 'https://www.pokemon.com/uk/pokedex/bulbasaur'}, {'Ivysaur': 'https://www.pokemon.com/uk/pokedex/ivysaur'}, {'Venusaur': 'https://www.pokemon.com/uk/pokedex/venusaur'}, {'Charmander': 'https://www.pokemon.com/uk/pokedex/charmander'}, {'Charmeleon': 'https://www.pokemon.com/uk/pokedex/charmeleon'}, {'Charizard': 'https://www.pokemon.com/uk/pokedex/charizard'}, {'Squirtle': 'https://www.pokemon.com/uk/pokedex/squirtle'}, {'Wartortle': 'https://www.pokemon.com/uk/pokedex/wartortle'}, {'Blastoise': 'https://www.pokemon.com/uk/pokedex/blastoise'}, {'Caterpie': 'https://www.pokemon.com/uk/pokedex/caterpie'}, {'Metapod': 'https://www.pokemon.com/uk/pokedex/metapod'}, {'Butterfree': 'https://www.pokemon.com/uk/pokedex/butterfree'}]\n"
     ]
    }
   ],
   "source": [
    "from selenium import webdriver\n",
    "import time\n",
    "import json\n",
    "from selenium.webdriver.common.by import By\n",
    "\n",
    "class Mysprapper():\n",
    "\n",
    "    def COS(self):\n",
    "        self.driver = webdriver.Chrome()\n",
    "        self.driver.get('https://pokemon.com/uk/pokedex/')\n",
    "        time.sleep(2)\n",
    "        self.click_cookie()\n",
    "        #self.get_poke_details()\n",
    "        self.scrape()\n",
    "        \n",
    "    \n",
    "    def click_cookie(self):\n",
    "        cookie_accept = self.driver.find_element(by=By.XPATH,value='//*[@id=\"onetrust-accept-btn-handler\"]')\n",
    "        cookie_accept.click()\n",
    "        time.sleep(1)\n",
    "\n",
    "    def get_poke_details(self):\n",
    "        poke_img_url = self.driver.find_element(by=By.XPATH, value='/html/body/div[4]/section[5]/ul/li[1]/figure/a/img').get_attribute('src')\n",
    "        time.sleep(3)\n",
    "        print(poke_img_url) \n",
    "\n",
    "    def scrape(self):\n",
    "        pokemons = self.driver.find_elements(by=By.XPATH, value='/html/body/div[4]/section[5]/ul/li')\n",
    "        print(len(pokemons))\n",
    "\n",
    "        pokemon_list = []\n",
    "\n",
    "        for idx, pokemon in enumerate(pokemons):\n",
    "            pokemon_name = pokemon.find_element_by_tag_name('h5').text\n",
    "            #print(pokemon_name)\n",
    "            pokemon_link = pokemon.find_element_by_tag_name('a').get_attribute('href')\n",
    "            #print(pokemon_link)\n",
    "\n",
    "            pokemon_info = {pokemon_name: pokemon_link}\n",
    "            pokemon_list.append(pokemon_info)\n",
    "\n",
    "        print(pokemon_list) \n",
    "m = Mysprapper()\n",
    "m.COS()\n",
    "\n"
   ]
  }
 ],
 "metadata": {
  "interpreter": {
   "hash": "e6a6e11e4da8db2e5c33e964a64b7ad327a3cd8023fd813c59f97dd957741255"
  },
  "kernelspec": {
   "display_name": "Python 3.10.2 64-bit",
   "language": "python",
   "name": "python3"
  },
  "language_info": {
   "codemirror_mode": {
    "name": "ipython",
    "version": 3
   },
   "file_extension": ".py",
   "mimetype": "text/x-python",
   "name": "python",
   "nbconvert_exporter": "python",
   "pygments_lexer": "ipython3",
   "version": "3.10.2"
  },
  "orig_nbformat": 4
 },
 "nbformat": 4,
 "nbformat_minor": 2
}
