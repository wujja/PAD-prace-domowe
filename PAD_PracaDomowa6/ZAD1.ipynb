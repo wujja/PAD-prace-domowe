{
 "cells": [
  {
   "cell_type": "code",
   "execution_count": 3,
   "metadata": {},
   "outputs": [
    {
     "data": {
      "text/plain": [
       "'#\\n# robots.txt\\n#\\n# This file is to prevent the crawling and indexing of certain parts\\n# of your site by web crawlers and spiders run by sites like Yahoo!\\n# and Google. By telling these \"robots\" where not to go on your site,\\n# you save bandwidth and server resources.\\n#\\n# This file will be ignored unless it is at the root of your host:\\n# Used:    http://example.com/robots.txt\\n# Ignored: http://example.com/site/robots.txt\\n#\\n# For more information about the robots.txt standard, see:\\n# http://www.robotstxt.org/robotstxt.html\\n\\nUser-agent: *\\n# CSS, JS, Images\\nAllow: /core/*.css$\\nAllow: /core/*.css?\\nAllow: /core/*.js$\\nAllow: /core/*.js?\\nAllow: /core/*.gif\\nAllow: /core/*.jpg\\nAllow: /core/*.jpeg\\nAllow: /core/*.png\\nAllow: /core/*.svg\\nAllow: /profiles/*.css$\\nAllow: /profiles/*.css?\\nAllow: /profiles/*.js$\\nAllow: /profiles/*.js?\\nAllow: /profiles/*.gif\\nAllow: /profiles/*.jpg\\nAllow: /profiles/*.jpeg\\nAllow: /profiles/*.png\\nAllow: /profiles/*.svg\\nAllow: /sites/default/files/styles/\\n# Directories\\nDisallow: /core/\\nDisallow: /profiles/\\nDisallow: /sites/default/files/\\n# Files\\nDisallow: /README.txt\\nDisallow: /web.config\\n# Paths (clean URLs)\\nDisallow: /admin/\\nDisallow: /comment/reply/\\nDisallow: /filter/tips\\nDisallow: /node/add/\\nDisallow: /search/\\nDisallow: /user/register/\\nDisallow: /user/password/\\nDisallow: /user/login/\\nDisallow: /user/logout/\\n# Paths (no clean URLs)\\nDisallow: /index.php/admin/\\nDisallow: /index.php/comment/reply/\\nDisallow: /index.php/filter/tips\\nDisallow: /index.php/node/add/\\nDisallow: /index.php/search/\\nDisallow: /index.php/user/password/\\nDisallow: /index.php/user/register/\\nDisallow: /index.php/user/login/\\nDisallow: /index.php/user/logout/'"
      ]
     },
     "execution_count": 3,
     "metadata": {},
     "output_type": "execute_result"
    }
   ],
   "source": [
    "from selenium import webdriver\n",
    "from selenium.webdriver.common.by import By\n",
    "import requests\n",
    "\n",
    "driver = webdriver.Chrome()\n",
    "driver.get('https://www.pap.pl/robots.txt')\n",
    "text = driver.find_element(by=By.XPATH, value='/html/body/pre').text\n",
    "text.split('\\n')"
   ]
  }
 ],
 "metadata": {
  "interpreter": {
   "hash": "e6a6e11e4da8db2e5c33e964a64b7ad327a3cd8023fd813c59f97dd957741255"
  },
  "kernelspec": {
   "display_name": "Python 3.10.2 64-bit",
   "language": "python",
   "name": "python3"
  },
  "language_info": {
   "codemirror_mode": {
    "name": "ipython",
    "version": 3
   },
   "file_extension": ".py",
   "mimetype": "text/x-python",
   "name": "python",
   "nbconvert_exporter": "python",
   "pygments_lexer": "ipython3",
   "version": "3.10.2"
  },
  "orig_nbformat": 4
 },
 "nbformat": 4,
 "nbformat_minor": 2
}
