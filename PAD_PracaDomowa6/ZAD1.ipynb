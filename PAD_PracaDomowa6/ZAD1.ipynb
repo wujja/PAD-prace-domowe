{
 "cells": [
  {
   "cell_type": "code",
   "execution_count": 4,
   "metadata": {},
   "outputs": [
    {
     "data": {
      "text/plain": [
       "['#',\n",
       " '# robots.txt',\n",
       " '#',\n",
       " '# This file is to prevent the crawling and indexing of certain parts',\n",
       " '# of your site by web crawlers and spiders run by sites like Yahoo!',\n",
       " '# and Google. By telling these \"robots\" where not to go on your site,',\n",
       " '# you save bandwidth and server resources.',\n",
       " '#',\n",
       " '# This file will be ignored unless it is at the root of your host:',\n",
       " '# Used:    http://example.com/robots.txt',\n",
       " '# Ignored: http://example.com/site/robots.txt',\n",
       " '#',\n",
       " '# For more information about the robots.txt standard, see:',\n",
       " '# http://www.robotstxt.org/robotstxt.html',\n",
       " '',\n",
       " 'User-agent: *',\n",
       " '# CSS, JS, Images',\n",
       " 'Allow: /core/*.css$',\n",
       " 'Allow: /core/*.css?',\n",
       " 'Allow: /core/*.js$',\n",
       " 'Allow: /core/*.js?',\n",
       " 'Allow: /core/*.gif',\n",
       " 'Allow: /core/*.jpg',\n",
       " 'Allow: /core/*.jpeg',\n",
       " 'Allow: /core/*.png',\n",
       " 'Allow: /core/*.svg',\n",
       " 'Allow: /profiles/*.css$',\n",
       " 'Allow: /profiles/*.css?',\n",
       " 'Allow: /profiles/*.js$',\n",
       " 'Allow: /profiles/*.js?',\n",
       " 'Allow: /profiles/*.gif',\n",
       " 'Allow: /profiles/*.jpg',\n",
       " 'Allow: /profiles/*.jpeg',\n",
       " 'Allow: /profiles/*.png',\n",
       " 'Allow: /profiles/*.svg',\n",
       " 'Allow: /sites/default/files/styles/',\n",
       " '# Directories',\n",
       " 'Disallow: /core/',\n",
       " 'Disallow: /profiles/',\n",
       " 'Disallow: /sites/default/files/',\n",
       " '# Files',\n",
       " 'Disallow: /README.txt',\n",
       " 'Disallow: /web.config',\n",
       " '# Paths (clean URLs)',\n",
       " 'Disallow: /admin/',\n",
       " 'Disallow: /comment/reply/',\n",
       " 'Disallow: /filter/tips',\n",
       " 'Disallow: /node/add/',\n",
       " 'Disallow: /search/',\n",
       " 'Disallow: /user/register/',\n",
       " 'Disallow: /user/password/',\n",
       " 'Disallow: /user/login/',\n",
       " 'Disallow: /user/logout/',\n",
       " '# Paths (no clean URLs)',\n",
       " 'Disallow: /index.php/admin/',\n",
       " 'Disallow: /index.php/comment/reply/',\n",
       " 'Disallow: /index.php/filter/tips',\n",
       " 'Disallow: /index.php/node/add/',\n",
       " 'Disallow: /index.php/search/',\n",
       " 'Disallow: /index.php/user/password/',\n",
       " 'Disallow: /index.php/user/register/',\n",
       " 'Disallow: /index.php/user/login/',\n",
       " 'Disallow: /index.php/user/logout/']"
      ]
     },
     "execution_count": 4,
     "metadata": {},
     "output_type": "execute_result"
    }
   ],
   "source": [
    "from selenium import webdriver\n",
    "from selenium.webdriver.common.by import By\n",
    "import requests\n",
    "\n",
    "driver = webdriver.Chrome()\n",
    "driver.get('https://www.pap.pl/robots.txt')\n",
    "text = driver.find_element(by=By.XPATH, value='/html/body/pre').text\n",
    "text.split('\\n')"
   ]
  }
 ],
 "metadata": {
  "interpreter": {
   "hash": "e6a6e11e4da8db2e5c33e964a64b7ad327a3cd8023fd813c59f97dd957741255"
  },
  "kernelspec": {
   "display_name": "Python 3.10.2 64-bit",
   "language": "python",
   "name": "python3"
  },
  "language_info": {
   "codemirror_mode": {
    "name": "ipython",
    "version": 3
   },
   "file_extension": ".py",
   "mimetype": "text/x-python",
   "name": "python",
   "nbconvert_exporter": "python",
   "pygments_lexer": "ipython3",
   "version": "3.10.2"
  },
  "orig_nbformat": 4
 },
 "nbformat": 4,
 "nbformat_minor": 2
}
