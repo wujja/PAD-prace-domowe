{
 "cells": [
  {
   "cell_type": "code",
   "execution_count": 10,
   "metadata": {},
   "outputs": [
    {
     "name": "stdout",
     "output_type": "stream",
     "text": [
      "Please write a number\n",
      "Please write a number\n",
      "Please write a number\n",
      "Please write a number\n",
      "Please write a number\n"
     ]
    }
   ],
   "source": [
    "class Game():\n",
    "    def _play(self):\n",
    "        self.how_many_players()          \n",
    "        print(\"Gra się rozpoczeła, liczba graczy {}\".format(self.no_players))\n",
    "\n",
    "    def how_many_players(self):\n",
    "        no_players = None\n",
    "        while (no_players is not type(int) and no_players not in range(1,3)):           \n",
    "            try:\n",
    "                no_players = int(input(\"How many players?\"))\n",
    "                if(no_players not in range(1,3)):\n",
    "                    print(\"Number must 1 or 2\")\n",
    "                else:\n",
    "                    self.no_players = no_players\n",
    "            except:\n",
    "                print(\"Please write a number\")\n",
    "\n",
    "class Hangman(Game):\n",
    "    def __init__(self):\n",
    "        self.level_of_difficulty = [\"beginner\", \"intermediate\", \"advanced\"]\n",
    "        self.list_of_words = [\"apple\", \"orange\", \"car\", \"cat\", \"cow\", \"pineapple\", \"window\", \"pensil\"]\n",
    "\n",
    "    def difficult_level(self):\n",
    "        level = None\n",
    "        list_of_choise = [\"a\", \"b\", \"i\"]\n",
    "        while(level is not type(str) and level not in list_of_choise):\n",
    "            try:\n",
    "                level = input(\"Which of difficulty level do you want to play? Type b - beginner, i - intermediate, a - advanced\" )\n",
    "                if(level not in list_of_choise):\n",
    "                    print(\"Please write a, b or i\")\n",
    "            except:\n",
    "                print(\"Something goes wrong\") #chyba niepotrzebne\n",
    "        if(level == \"b\"):\n",
    "            self.level = self.level_of_difficulty[0]\n",
    "            self.no_try = 8\n",
    "        elif(level == \"i\"):\n",
    "            self.level = self.level_of_difficulty[1]\n",
    "            self.no_try = 5\n",
    "        elif(level == \"a\"):\n",
    "            self.level = self.level_of_difficulty[2]\n",
    "            self.no_try = 3\n",
    "\n",
    "    def update_information(self):\n",
    "        pass\n",
    "    \n",
    "    def _play(self):\n",
    "        super()._play()\n",
    "        self.difficult_level()\n",
    "        print(f'Difficulty level: {self.level}, number of tries {self.no_try}')\n",
    "        import random\n",
    "        if (self.no_players == 1):\n",
    "            word = WordToGuess(random.choice(self.list_of_words))\n",
    "\n",
    "\n",
    "    def next_round(self):\n",
    "        pass\n",
    "\n",
    "class WordToGuess():\n",
    "    \n",
    "    def __init__(self, word):\n",
    "        self.word = word\n",
    "        self.changeToFloor()\n",
    "    \n",
    "    def changeToFloor(self):\n",
    "        self.word_to_show = '_' * len(self.word)\n",
    "\n",
    "    def new_letter(self, letter):\n",
    "        if (self.word_to_show.count(letter) > 0):\n",
    "            my_list = [i for i, j in enumerate(self.word) if j==letter]\n",
    "            word_as_list = list(self.word_to_show)\n",
    "            for i in range(len(self.word)):\n",
    "                if(i in my_list):\n",
    "                    word_as_list[i] = letter\n",
    "            self.word_to_show = \"\".join(word_as_list)\n",
    "            print(self.word_to_show)\n",
    "        else:\n",
    "            print(\"This letter is already in word and you know it\")\n",
    "\n",
    "g = Hangman()\n",
    "g._play()"
   ]
  },
  {
   "cell_type": "code",
   "execution_count": null,
   "metadata": {},
   "outputs": [
    {
     "name": "stdout",
     "output_type": "stream",
     "text": [
      "____\n",
      "This letter is already in word and you know it\n",
      "This letter is already in word and you know it\n"
     ]
    }
   ],
   "source": [
    "word = WordToGuess(\"coos\")\n",
    "print(word.word_to_show)\n",
    "word.new_letter('c')\n",
    "word.new_letter('o')"
   ]
  },
  {
   "cell_type": "code",
   "execution_count": null,
   "metadata": {},
   "outputs": [
    {
     "name": "stdout",
     "output_type": "stream",
     "text": [
      "nie\n"
     ]
    }
   ],
   "source": [
    "list_of_choise = [\"a\", \"b\", \"i\"]\n",
    "a = \"c\"\n",
    "if(a in list_of_choise):\n",
    "    print(\"tak\")\n",
    "else:\n",
    "    print(\"nie\")"
   ]
  }
 ],
 "metadata": {
  "interpreter": {
   "hash": "f03b26c0b1de1e5ec988569af0bd3f9ca774c4bbf3c6c2526649658410ee610e"
  },
  "kernelspec": {
   "display_name": "Python 3.10.2 64-bit",
   "language": "python",
   "name": "python3"
  },
  "language_info": {
   "codemirror_mode": {
    "name": "ipython",
    "version": 3
   },
   "file_extension": ".py",
   "mimetype": "text/x-python",
   "name": "python",
   "nbconvert_exporter": "python",
   "pygments_lexer": "ipython3",
   "version": "3.8.2"
  },
  "orig_nbformat": 4
 },
 "nbformat": 4,
 "nbformat_minor": 2
}
