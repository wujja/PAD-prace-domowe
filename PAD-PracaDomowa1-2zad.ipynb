{
 "cells": [
  {
   "cell_type": "code",
   "execution_count": 21,
   "metadata": {},
   "outputs": [],
   "source": [
    "class Worker():\n",
    "    def __init__(self, number, name, age, salary):\n",
    "        self.number = number\n",
    "        self.name = name\n",
    "        self.age = age\n",
    "        self.salary = salary  \n"
   ]
  },
  {
   "cell_type": "code",
   "execution_count": 22,
   "metadata": {},
   "outputs": [],
   "source": [
    "workers = []\n",
    "\n",
    "workers.append(Worker(1, \"Adam\", 1983, 1500))\n",
    "workers.append(Worker(2, \"Anna\", 1981, 1700))\n",
    "workers.append(Worker(3, \"Błażej\", 1990, 1800))\n",
    "workers.append(Worker(4, \"Beata\", 1992, 1600))\n",
    "workers.append(Worker(5, \"Czesław\", 1980, 2000))\n",
    "workers.append(Worker(6, \"Cecylia\", 1983, 2100))\n",
    "workers.append(Worker(7, \"Daniel\", 1976, 1900))\n"
   ]
  },
  {
   "cell_type": "code",
   "execution_count": 23,
   "metadata": {},
   "outputs": [],
   "source": [
    "def CalculateAvarageSalary():\n",
    "    avarage_salary = 0\n",
    "    for worker in workers:\n",
    "        avarage_salary += worker.salary\n",
    "    avarage_salary = avarage_salary / len(workers)\n",
    "    return avarage_salary"
   ]
  },
  {
   "cell_type": "code",
   "execution_count": 24,
   "metadata": {},
   "outputs": [],
   "source": [
    "def CalculateAndCompareSalary(age_to_compare):\n",
    "    import datetime\n",
    "    today = datetime.datetime.now()\n",
    "    salary_older_age = 0\n",
    "    salary_younger_equal_age = 0\n",
    "    number_of_people_older_age = 0\n",
    "    number_of_people_younger_equal_age = 0\n",
    "\n",
    "    for worker in workers:\n",
    "        age = today.year - worker.age\n",
    "        if (age > age_to_compare):\n",
    "            number_of_people_older_age += 1\n",
    "            salary_older_age += worker.salary\n",
    "        else:\n",
    "            number_of_people_younger_equal_age += 1\n",
    "            salary_younger_equal_age += worker.salary\n",
    "    if(number_of_people_younger_equal_age == 0 or number_of_people_older_age == 0):\n",
    "        print(\"One of the groups is empty, please choose different age to compare\")\n",
    "    else:\n",
    "        avarage_salary_older_age = salary_older_age / number_of_people_older_age\n",
    "        avarage_salary_younger_equal_age = salary_younger_equal_age / number_of_people_younger_equal_age\n",
    "        print(\"People in age {0} or younger earn {1} on avarage. People onder than {0} earn {2}.\".format(age_to_compare, round(avarage_salary_younger_equal_age, 2), round(avarage_salary_older_age, 2)))\n",
    "        print(avarage_salary_older_age,avarage_salary_younger_equal_age,salary_older_age, salary_younger_equal_age, number_of_people_older_age, number_of_people_younger_equal_age)\n",
    "    \n",
    "    "
   ]
  },
  {
   "cell_type": "code",
   "execution_count": 25,
   "metadata": {},
   "outputs": [
    {
     "name": "stdout",
     "output_type": "stream",
     "text": [
      "1800.0\n",
      "People in age 40 or younger earn 1750.0 on avarage. People onder than 40 earn 1866.67.\n",
      "1866.6666666666667 1750.0 5600 7000 3 4\n"
     ]
    }
   ],
   "source": [
    "print(CalculateAvarageSalary())\n",
    "CalculateAndCompareSalary(40)"
   ]
  }
 ],
 "metadata": {
  "interpreter": {
   "hash": "f03b26c0b1de1e5ec988569af0bd3f9ca774c4bbf3c6c2526649658410ee610e"
  },
  "kernelspec": {
   "display_name": "Python 3.10.2 64-bit",
   "language": "python",
   "name": "python3"
  },
  "language_info": {
   "codemirror_mode": {
    "name": "ipython",
    "version": 3
   },
   "file_extension": ".py",
   "mimetype": "text/x-python",
   "name": "python",
   "nbconvert_exporter": "python",
   "pygments_lexer": "ipython3",
   "version": "3.10.2"
  },
  "orig_nbformat": 4
 },
 "nbformat": 4,
 "nbformat_minor": 2
}
