{
 "cells": [
  {
   "cell_type": "code",
   "execution_count": 36,
   "metadata": {},
   "outputs": [
    {
     "data": {
      "text/plain": [
       "[{'make': 'Mi Max', 'model': 2, 'color': 'Gold'},\n",
       " {'make': 'Nokia', 'model': 7, 'color': 'Blue'},\n",
       " {'make': 'Nokia', 'model': 7, 'color': 'Gold'},\n",
       " {'make': 'Nokia', 'model': 216, 'color': 'Black'},\n",
       " {'make': 'Samsung', 'model': 7, 'color': 'Blue'}]"
      ]
     },
     "execution_count": 36,
     "metadata": {},
     "output_type": "execute_result"
    }
   ],
   "source": [
    "dictionary = [{'make': 'Nokia', 'model': 216, 'color': 'Black'},\n",
    " {'make': 'Mi Max', 'model': 2, 'color': 'Gold'},\n",
    "  {'make': 'Samsung', 'model': 7, 'color': 'Blue'},\n",
    "  {'make': 'Nokia', 'model': 7, 'color': 'Gold'},\n",
    "   {'make': 'Nokia', 'model': 7, 'color': 'Blue'}]\n",
    "\n",
    "def sort_our_list_of_dictionary(dictionary ,name1, name2 = None, name3 = None): # nie udalo mi sie przeciazyc metody\n",
    "    if(name2 is not None and name3 is not None):\n",
    "        return sorted(dictionary, key=lambda i:(i[name1], i[name2], i[name3]))\n",
    "    elif(name2 is not None):\n",
    "        return sorted(dictionary, key=lambda i:(i[name1], i[name2]))\n",
    "    else:\n",
    "        return sorted(dictionary, key = lambda i:(i[name1]))\n",
    "\n",
    "sort_our_list_of_dictionary(dictionary ,\"make\",\"model\",\"color\")"
   ]
  }
 ],
 "metadata": {
  "interpreter": {
   "hash": "f03b26c0b1de1e5ec988569af0bd3f9ca774c4bbf3c6c2526649658410ee610e"
  },
  "kernelspec": {
   "display_name": "Python 3.10.2 64-bit",
   "language": "python",
   "name": "python3"
  },
  "language_info": {
   "codemirror_mode": {
    "name": "ipython",
    "version": 3
   },
   "file_extension": ".py",
   "mimetype": "text/x-python",
   "name": "python",
   "nbconvert_exporter": "python",
   "pygments_lexer": "ipython3",
   "version": "3.10.2"
  },
  "orig_nbformat": 4
 },
 "nbformat": 4,
 "nbformat_minor": 2
}
