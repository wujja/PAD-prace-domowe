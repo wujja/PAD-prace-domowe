{
 "cells": [
  {
   "cell_type": "code",
   "execution_count": 135,
   "metadata": {},
   "outputs": [],
   "source": [
    "class Animal():\n",
    "    def __init__ (self, genus, isAlive = True, gender = \"Female\"):\n",
    "        self.gender= gender\n",
    "        self.isAlive = isAlive\n",
    "        self.genus = genus\n",
    "    \n",
    "    def breed(self, partner):\n",
    "        try:\n",
    "            if(self.gender == \"Female\" and partner.gender == \"Male\" and self.genus == partner.genus):\n",
    "                new_animal = type(self)()\n",
    "                import random\n",
    "                if(random.randint(0,1) == 1):\n",
    "                    new_animal.gender = \"Male\"\n",
    "                return new_animal\n",
    "        except:\n",
    "            print(\"Attribute not found\")"
   ]
  },
  {
   "cell_type": "code",
   "execution_count": 136,
   "metadata": {},
   "outputs": [],
   "source": [
    "class Dog(Animal):\n",
    "    def __init__(self):\n",
    "        super().__init__(genus=\"Canis\")\n",
    "    \n",
    "    def woof(self):\n",
    "        return \"woof woof\""
   ]
  },
  {
   "cell_type": "code",
   "execution_count": 137,
   "metadata": {},
   "outputs": [],
   "source": [
    "class Cat(Animal):\n",
    "    def __init__ (self):\n",
    "        super().__init__(genus=\"Felis\")\n",
    "\n",
    "    def purr(self):\n",
    "        return \"purr\""
   ]
  },
  {
   "cell_type": "code",
   "execution_count": 138,
   "metadata": {},
   "outputs": [
    {
     "name": "stdout",
     "output_type": "stream",
     "text": [
      "woof woof\n",
      "Attribute not found\n",
      "purr\n",
      "Attribute not found\n"
     ]
    }
   ],
   "source": [
    "dog_1 = Dog()\n",
    "dog_2 = Dog()\n",
    "dog_2.gender = \"Male\"\n",
    "\n",
    "new_dog = dog_1.breed(dog_2)\n",
    "print(new_dog.woof())\n",
    "not_existing_dog = dog_1.breed(0)\n",
    "\n",
    "cat_1 = Cat()\n",
    "cat_2 = Cat()\n",
    "cat_2.gender = \"Male\"\n",
    "\n",
    "new_cat = cat_1.breed(cat_2)\n",
    "print(new_cat.purr())\n",
    "not_existing_cat = cat_1.breed(0)"
   ]
  }
 ],
 "metadata": {
  "interpreter": {
   "hash": "f03b26c0b1de1e5ec988569af0bd3f9ca774c4bbf3c6c2526649658410ee610e"
  },
  "kernelspec": {
   "display_name": "Python 3.10.2 64-bit",
   "language": "python",
   "name": "python3"
  },
  "language_info": {
   "codemirror_mode": {
    "name": "ipython",
    "version": 3
   },
   "file_extension": ".py",
   "mimetype": "text/x-python",
   "name": "python",
   "nbconvert_exporter": "python",
   "pygments_lexer": "ipython3",
   "version": "3.10.2"
  },
  "orig_nbformat": 4
 },
 "nbformat": 4,
 "nbformat_minor": 2
}
